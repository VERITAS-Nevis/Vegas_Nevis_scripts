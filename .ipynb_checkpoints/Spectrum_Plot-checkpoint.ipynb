{
 "cells": [
  {
   "cell_type": "code",
   "execution_count": 1,
   "metadata": {
    "collapsed": false
   },
   "outputs": [],
   "source": [
    "import numpy as np\n",
    "import matplotlib.pyplot as plt\n",
    "%matplotlib inline\n",
    "\n",
    "Energy=np.array([2.42,3.62,5.41,8.10])\n",
    "Ebins=np.array([[1.9953,2.9854],[2.9854,4.4668],[4.4668,6.6834],[6.6834,10.]])"
   ]
  },
  {
   "cell_type": "code",
   "execution_count": 2,
   "metadata": {
    "collapsed": false
   },
   "outputs": [],
   "source": [
    "ErrorsL=np.subtract(Energy,Ebins[:,0])\n",
    "ErrorsH=np.subtract(Ebins[:,1],Energy)"
   ]
  },
  {
   "cell_type": "code",
   "execution_count": 3,
   "metadata": {
    "collapsed": false
   },
   "outputs": [],
   "source": [
    "disp=np.array([[4.97e-08, 5.37e-09],[1.33e-08, 1.81e-09],[5.59e-09, 8.39e-10],[1.52e-09, 3.3e-10]])\n",
    "geo=np.array([[4.87e-08, 8.61e-09],[1.23e-08, 2.33e-09],[6.35e-09, 1.13e-09],[1.25e-09, 3.73e-10]])"
   ]
  },
  {
   "cell_type": "code",
   "execution_count": 4,
   "metadata": {
    "collapsed": false
   },
   "outputs": [],
   "source": [
    "def Hess_function(x,f,fe,a,ae,b,be):\n",
    "    exp= -(a+ae) + ((b+be)*np.log(x/.521))\n",
    "    return (f+fe)*np.power((x/.521),exp)*x**2\n",
    "def Magic_function(x,f,fe,a,ae,b,be):\n",
    "    exp= -(a+ae) + ((b+be)*np.log10(x/0.3))\n",
    "    return (f+fe)*np.power((x/0.3),exp)*x**2"
   ]
  },
  {
   "cell_type": "code",
   "execution_count": 19,
   "metadata": {
    "collapsed": false
   },
   "outputs": [
    {
     "data": {
      "text/plain": [
       "[]"
      ]
     },
     "execution_count": 19,
     "metadata": {},
     "output_type": "execute_result"
    },
    {
     "data": {
      "image/png": "[encoded data removed]",
      "text/plain": [
       "<matplotlib.figure.Figure at 0x7f4f3d733e50>"
      ]
     },
     "metadata": {},
     "output_type": "display_data"
    }
   ],
   "source": [
    "x=np.linspace(1,10,1000)\n",
    "# No errors\n",
    "# HESS_h=Hess_function(x,3.76e-7,0,2.39,0,-0.24,0)\n",
    "# HESS_l=Hess_function(x,3.76e-7,0,2.39,0,-0.24,0)\n",
    "# MAGIC_h=Magic_function(x,6e-6,0,2.32,0,-0.26,0)\n",
    "# MAGIC_l=Magic_function(x,6e-6,0,2.32,0,-0.26,0)\n",
    "\n",
    "HESS_h=Hess_function(x,1.79e-6,.07e-6,2.1,-.04,-0.24,-0.01)\n",
    "HESS_l=Hess_function(x,1.79e-6,-.07e-6,2.1,.04,-0.24,0.01)\n",
    "MAGIC_h=Magic_function(x,3.23e-6,0.3e-6,2.47,-.01,-0.24,-.01)\n",
    "MAGIC_l=Magic_function(x,3.23e-6,-0.3e-6,2.47,.01,-0.24,.01)\n",
    "\n",
    "plt.figure(0,figsize=[8,5])\n",
    "plt.errorbar(Energy,(Energy**2*disp[:,0]),xerr=[ErrorsL,ErrorsH],yerr=(Energy**2*disp[:,1]),marker='o',color='b',linestyle='',capsize=10,capthick=1,label=\"Disp\")\n",
    "plt.errorbar(Energy,(Energy**2*geo[:,0]),xerr=[ErrorsL,ErrorsH],yerr=(Energy**2*geo[:,1]),marker='o',color='r',linestyle='',capsize=7,label=\"Geo\")\n",
    "# plt.plot(x,MAGIC_h,color='k')\n",
    "plt.plot(x,MAGIC_l,color='#ECA2E8')\n",
    "# plt.plot(x,HESS_h,color='m')\n",
    "plt.plot(x,HESS_h,color='#ECA2E8')\n",
    "plt.fill_between(x,MAGIC_l,HESS_h,alpha=0.5, edgecolor='#ECA2E8', facecolor='#ECA2E8',label=\"Published Results\")\n",
    "plt.legend(loc=0)\n",
    "# plt.ylabel(\"E^{2}*Flux (TeV^{-1}m^{-2}s^{-1})\")\n",
    "plt.xlabel(\"Energy (GeV)\")\n",
    "plt.semilogy()\n",
    "plt.semilogx()\n"
   ]
  },
  {
   "cell_type": "code",
   "execution_count": null,
   "metadata": {
    "collapsed": false
   },
   "outputs": [],
   "source": []
  },
  {
   "cell_type": "code",
   "execution_count": null,
   "metadata": {
    "collapsed": true
   },
   "outputs": [],
   "source": []
  },
  {
   "cell_type": "code",
   "execution_count": null,
   "metadata": {
    "collapsed": true
   },
   "outputs": [],
   "source": []
  },
  {
   "cell_type": "code",
   "execution_count": null,
   "metadata": {
    "collapsed": true
   },
   "outputs": [],
   "source": []
  }
 ],
 "metadata": {
  "kernelspec": {
   "display_name": "Python 2",
   "language": "python",
   "name": "python2"
  },
  "language_info": {
   "codemirror_mode": {
    "name": "ipython",
    "version": 2
   },
   "file_extension": ".py",
   "mimetype": "text/x-python",
   "name": "python",
   "nbconvert_exporter": "python",
   "pygments_lexer": "ipython2",
   "version": "2.7.11"
  }
 },
 "nbformat": 4,
 "nbformat_minor": 0
}
